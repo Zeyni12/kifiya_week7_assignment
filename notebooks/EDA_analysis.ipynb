{
 "cells": [
  {
   "cell_type": "code",
   "execution_count": 1,
   "metadata": {},
   "outputs": [],
   "source": [
    "# Import modules\n",
    "import sys\n",
    "import os\n",
    "import pandas as pd"
   ]
  },
  {
   "cell_type": "code",
   "execution_count": 2,
   "metadata": {},
   "outputs": [],
   "source": [
    "# Append the project root path to sys.path\n",
    "sys.path.append(os.path.abspath(\"..\"))"
   ]
  },
  {
   "cell_type": "code",
   "execution_count": 3,
   "metadata": {},
   "outputs": [],
   "source": [
    "# Now import the modules\n",
    "from scripts.database_setup import get_db_connection, create_table, insert_data\n",
    "from scripts.EDA import load_csv, clean_dataframe, save_cleaned_data"
   ]
  },
  {
   "cell_type": "code",
   "execution_count": 4,
   "metadata": {},
   "outputs": [
    {
     "data": {
      "text/html": [
       "<div>\n",
       "<style scoped>\n",
       "    .dataframe tbody tr th:only-of-type {\n",
       "        vertical-align: middle;\n",
       "    }\n",
       "\n",
       "    .dataframe tbody tr th {\n",
       "        vertical-align: top;\n",
       "    }\n",
       "\n",
       "    .dataframe thead th {\n",
       "        text-align: right;\n",
       "    }\n",
       "</style>\n",
       "<table border=\"1\" class=\"dataframe\">\n",
       "  <thead>\n",
       "    <tr style=\"text-align: right;\">\n",
       "      <th></th>\n",
       "      <th>Channel Title</th>\n",
       "      <th>Channel Username</th>\n",
       "      <th>Channel ID</th>\n",
       "      <th>Date</th>\n",
       "      <th>Message</th>\n",
       "      <th>Image Path</th>\n",
       "    </tr>\n",
       "  </thead>\n",
       "  <tbody>\n",
       "    <tr>\n",
       "      <th>0</th>\n",
       "      <td>Doctors Ethiopia</td>\n",
       "      <td>DoctorsET</td>\n",
       "      <td>1102021238</td>\n",
       "      <td>2023-12-18 17:04:02+00:00</td>\n",
       "      <td>https://youtu.be/5DBoEm-8kmA?si=LDLuEecNfULJVD...</td>\n",
       "      <td>NaN</td>\n",
       "    </tr>\n",
       "    <tr>\n",
       "      <th>1</th>\n",
       "      <td>Doctors Ethiopia</td>\n",
       "      <td>DoctorsET</td>\n",
       "      <td>1102021238</td>\n",
       "      <td>2023-11-03 16:14:39+00:00</td>\n",
       "      <td>ዶክተርስ ኢትዮጵያ በ አዲስ አቀራረብ በ ቴሌቪዥን ፕሮግራሙን ለመጀመር ከ...</td>\n",
       "      <td>NaN</td>\n",
       "    </tr>\n",
       "    <tr>\n",
       "      <th>2</th>\n",
       "      <td>Doctors Ethiopia</td>\n",
       "      <td>DoctorsET</td>\n",
       "      <td>1102021238</td>\n",
       "      <td>2023-10-02 16:37:39+00:00</td>\n",
       "      <td>ሞት በስኳር \\n\\nለልጆቻችን የምናሲዘው ምሳቃ ሳናቀው እድሚያቸውን ይቀን...</td>\n",
       "      <td>NaN</td>\n",
       "    </tr>\n",
       "    <tr>\n",
       "      <th>3</th>\n",
       "      <td>Doctors Ethiopia</td>\n",
       "      <td>DoctorsET</td>\n",
       "      <td>1102021238</td>\n",
       "      <td>2023-09-16 07:54:32+00:00</td>\n",
       "      <td>ከ HIV የተፈወሰ ሰው አጋጥሟችሁ ያቃል ? ፈውስ እና ህክምና ?\\n\\nሙ...</td>\n",
       "      <td>NaN</td>\n",
       "    </tr>\n",
       "    <tr>\n",
       "      <th>4</th>\n",
       "      <td>Doctors Ethiopia</td>\n",
       "      <td>DoctorsET</td>\n",
       "      <td>1102021238</td>\n",
       "      <td>2023-09-01 16:16:15+00:00</td>\n",
       "      <td>በቅርብ ጊዜ በሃገራችን ላይ እየተስተዋለ ያለ የተመሳሳይ ፆታ ( Homos...</td>\n",
       "      <td>NaN</td>\n",
       "    </tr>\n",
       "    <tr>\n",
       "      <th>...</th>\n",
       "      <td>...</td>\n",
       "      <td>...</td>\n",
       "      <td>...</td>\n",
       "      <td>...</td>\n",
       "      <td>...</td>\n",
       "      <td>...</td>\n",
       "    </tr>\n",
       "    <tr>\n",
       "      <th>395</th>\n",
       "      <td>ETHIO-AMERICAN MEDICAL TRAININGS( CPD ) &amp; HEAL...</td>\n",
       "      <td>EAHCI</td>\n",
       "      <td>1432982009</td>\n",
       "      <td>2024-11-26 04:40:37+00:00</td>\n",
       "      <td>NaN</td>\n",
       "      <td>NaN</td>\n",
       "    </tr>\n",
       "    <tr>\n",
       "      <th>396</th>\n",
       "      <td>ETHIO-AMERICAN MEDICAL TRAININGS( CPD ) &amp; HEAL...</td>\n",
       "      <td>EAHCI</td>\n",
       "      <td>1432982009</td>\n",
       "      <td>2024-11-26 04:40:10+00:00</td>\n",
       "      <td>#OBGYN_Ultrasound_Training@Adiss_Ababa!!!\\n#ህዳ...</td>\n",
       "      <td>scraped_images\\EAHCI_2493.jpg</td>\n",
       "    </tr>\n",
       "    <tr>\n",
       "      <th>397</th>\n",
       "      <td>ETHIO-AMERICAN MEDICAL TRAININGS( CPD ) &amp; HEAL...</td>\n",
       "      <td>EAHCI</td>\n",
       "      <td>1432982009</td>\n",
       "      <td>2024-11-25 09:28:03+00:00</td>\n",
       "      <td>#Dental_Extraction &amp; #Care_Training \\n@Adiss A...</td>\n",
       "      <td>scraped_images\\EAHCI_2492.jpg</td>\n",
       "    </tr>\n",
       "    <tr>\n",
       "      <th>398</th>\n",
       "      <td>ETHIO-AMERICAN MEDICAL TRAININGS( CPD ) &amp; HEAL...</td>\n",
       "      <td>EAHCI</td>\n",
       "      <td>1432982009</td>\n",
       "      <td>2024-11-25 08:33:00+00:00</td>\n",
       "      <td>#OBGYN_Ultrasound_Training@Adiss_Ababa!!!\\n#ህዳ...</td>\n",
       "      <td>scraped_images\\EAHCI_2490.jpg</td>\n",
       "    </tr>\n",
       "    <tr>\n",
       "      <th>399</th>\n",
       "      <td>ETHIO-AMERICAN MEDICAL TRAININGS( CPD ) &amp; HEAL...</td>\n",
       "      <td>EAHCI</td>\n",
       "      <td>1432982009</td>\n",
       "      <td>2024-11-25 08:23:32+00:00</td>\n",
       "      <td>የሙያ ፍቃዳችሁን ላላሳደሳቹ የጤና ባለሙያዎች (#Ethio_American_...</td>\n",
       "      <td>scraped_images\\EAHCI_2489.jpg</td>\n",
       "    </tr>\n",
       "  </tbody>\n",
       "</table>\n",
       "<p>400 rows × 6 columns</p>\n",
       "</div>"
      ],
      "text/plain": [
       "                                         Channel Title Channel Username  \\\n",
       "0                                     Doctors Ethiopia        DoctorsET   \n",
       "1                                     Doctors Ethiopia        DoctorsET   \n",
       "2                                     Doctors Ethiopia        DoctorsET   \n",
       "3                                     Doctors Ethiopia        DoctorsET   \n",
       "4                                     Doctors Ethiopia        DoctorsET   \n",
       "..                                                 ...              ...   \n",
       "395  ETHIO-AMERICAN MEDICAL TRAININGS( CPD ) & HEAL...            EAHCI   \n",
       "396  ETHIO-AMERICAN MEDICAL TRAININGS( CPD ) & HEAL...            EAHCI   \n",
       "397  ETHIO-AMERICAN MEDICAL TRAININGS( CPD ) & HEAL...            EAHCI   \n",
       "398  ETHIO-AMERICAN MEDICAL TRAININGS( CPD ) & HEAL...            EAHCI   \n",
       "399  ETHIO-AMERICAN MEDICAL TRAININGS( CPD ) & HEAL...            EAHCI   \n",
       "\n",
       "     Channel ID                       Date  \\\n",
       "0    1102021238  2023-12-18 17:04:02+00:00   \n",
       "1    1102021238  2023-11-03 16:14:39+00:00   \n",
       "2    1102021238  2023-10-02 16:37:39+00:00   \n",
       "3    1102021238  2023-09-16 07:54:32+00:00   \n",
       "4    1102021238  2023-09-01 16:16:15+00:00   \n",
       "..          ...                        ...   \n",
       "395  1432982009  2024-11-26 04:40:37+00:00   \n",
       "396  1432982009  2024-11-26 04:40:10+00:00   \n",
       "397  1432982009  2024-11-25 09:28:03+00:00   \n",
       "398  1432982009  2024-11-25 08:33:00+00:00   \n",
       "399  1432982009  2024-11-25 08:23:32+00:00   \n",
       "\n",
       "                                               Message  \\\n",
       "0    https://youtu.be/5DBoEm-8kmA?si=LDLuEecNfULJVD...   \n",
       "1    ዶክተርስ ኢትዮጵያ በ አዲስ አቀራረብ በ ቴሌቪዥን ፕሮግራሙን ለመጀመር ከ...   \n",
       "2    ሞት በስኳር \\n\\nለልጆቻችን የምናሲዘው ምሳቃ ሳናቀው እድሚያቸውን ይቀን...   \n",
       "3    ከ HIV የተፈወሰ ሰው አጋጥሟችሁ ያቃል ? ፈውስ እና ህክምና ?\\n\\nሙ...   \n",
       "4    በቅርብ ጊዜ በሃገራችን ላይ እየተስተዋለ ያለ የተመሳሳይ ፆታ ( Homos...   \n",
       "..                                                 ...   \n",
       "395                                                NaN   \n",
       "396  #OBGYN_Ultrasound_Training@Adiss_Ababa!!!\\n#ህዳ...   \n",
       "397  #Dental_Extraction & #Care_Training \\n@Adiss A...   \n",
       "398  #OBGYN_Ultrasound_Training@Adiss_Ababa!!!\\n#ህዳ...   \n",
       "399  የሙያ ፍቃዳችሁን ላላሳደሳቹ የጤና ባለሙያዎች (#Ethio_American_...   \n",
       "\n",
       "                        Image Path  \n",
       "0                              NaN  \n",
       "1                              NaN  \n",
       "2                              NaN  \n",
       "3                              NaN  \n",
       "4                              NaN  \n",
       "..                             ...  \n",
       "395                            NaN  \n",
       "396  scraped_images\\EAHCI_2493.jpg  \n",
       "397  scraped_images\\EAHCI_2492.jpg  \n",
       "398  scraped_images\\EAHCI_2490.jpg  \n",
       "399  scraped_images\\EAHCI_2489.jpg  \n",
       "\n",
       "[400 rows x 6 columns]"
      ]
     },
     "execution_count": 4,
     "metadata": {},
     "output_type": "execute_result"
    }
   ],
   "source": [
    "df = pd.read_csv('C:/Users/hp/kifiya_acadamy_week7/kifiya_week7_assignment/telegram_messages.csv')\n",
    "df"
   ]
  },
  {
   "cell_type": "code",
   "execution_count": 5,
   "metadata": {},
   "outputs": [
    {
     "name": "stderr",
     "output_type": "stream",
     "text": [
      "2025-01-31 16:15:35,878 - INFO - ✅ Duplicates removed from dataset.\n",
      "2025-01-31 16:15:35,885 - INFO - ✅ Date column formatted to datetime.\n",
      "2025-01-31 16:15:35,894 - INFO - ✅ Text columns standardized.\n",
      "2025-01-31 16:15:35,897 - INFO - ✅ Emojis extracted and stored in 'emoji_used' column.\n",
      "2025-01-31 16:15:35,900 - INFO - ✅ YouTube links extracted and stored in 'youtube_links' column.\n",
      "2025-01-31 16:15:35,903 - INFO - ✅ Data cleaning completed successfully.\n"
     ]
    },
    {
     "data": {
      "text/html": [
       "<div>\n",
       "<style scoped>\n",
       "    .dataframe tbody tr th:only-of-type {\n",
       "        vertical-align: middle;\n",
       "    }\n",
       "\n",
       "    .dataframe tbody tr th {\n",
       "        vertical-align: top;\n",
       "    }\n",
       "\n",
       "    .dataframe thead th {\n",
       "        text-align: right;\n",
       "    }\n",
       "</style>\n",
       "<table border=\"1\" class=\"dataframe\">\n",
       "  <thead>\n",
       "    <tr style=\"text-align: right;\">\n",
       "      <th></th>\n",
       "      <th>channel_title</th>\n",
       "      <th>channel_username</th>\n",
       "      <th>message_id</th>\n",
       "      <th>message_date</th>\n",
       "      <th>message</th>\n",
       "      <th>media_path</th>\n",
       "      <th>emoji_used</th>\n",
       "      <th>youtube_links</th>\n",
       "    </tr>\n",
       "  </thead>\n",
       "  <tbody>\n",
       "    <tr>\n",
       "      <th>0</th>\n",
       "      <td>Doctors Ethiopia</td>\n",
       "      <td>DoctorsET</td>\n",
       "      <td>1102021238</td>\n",
       "      <td>2023-12-18 17:04:02+00:00</td>\n",
       "      <td>በቀን አንዴ ብቻ የሚባለው የቢዝነስ አማካሪ \\n\\nበ 10,000 ብር ብቻ...</td>\n",
       "      <td>No Media</td>\n",
       "      <td>👈👈👇👇</td>\n",
       "      <td>https://youtu.be/5DBoEm-8kmA?si=LDLuEecNfULJVD...</td>\n",
       "    </tr>\n",
       "    <tr>\n",
       "      <th>100</th>\n",
       "      <td>Lobelia pharmacy and cosmetics</td>\n",
       "      <td>lobelia4cosmetics</td>\n",
       "      <td>1666492664</td>\n",
       "      <td>2025-01-31 05:30:28+00:00</td>\n",
       "      <td>PRENATAL 120 GUMMIES \\nPrice 6500 birr \\nTeleg...</td>\n",
       "      <td>scraped_images\\lobelia4cosmetics_15200.jpg</td>\n",
       "      <td>👉☎🏍🏍🏍</td>\n",
       "      <td>No YouTube link</td>\n",
       "    </tr>\n",
       "    <tr>\n",
       "      <th>200</th>\n",
       "      <td>የጤና ወግ - የጤና መረጃ</td>\n",
       "      <td>yetenaweg</td>\n",
       "      <td>1447066276</td>\n",
       "      <td>2025-01-22 09:50:47+00:00</td>\n",
       "      <td></td>\n",
       "      <td>scraped_images\\yetenaweg_1247.jpg</td>\n",
       "      <td>No emoji</td>\n",
       "      <td>No YouTube link</td>\n",
       "    </tr>\n",
       "    <tr>\n",
       "      <th>300</th>\n",
       "      <td>ETHIO-AMERICAN MEDICAL TRAININGS( CPD ) &amp; HEAL...</td>\n",
       "      <td>EAHCI</td>\n",
       "      <td>1432982009</td>\n",
       "      <td>2025-01-30 12:42:18+00:00</td>\n",
       "      <td>#**የግርዛት_ስልጠና_ወላይታ_ሶዶ****\\n****#Circumcision_S...</td>\n",
       "      <td>scraped_images\\EAHCI_2603.jpg</td>\n",
       "      <td>🔶🔶🔶🔶🔶🔶🔶🔶🔶🔶👉👉👉📞📞📞📞📞📞👉👉</td>\n",
       "      <td>No YouTube link</td>\n",
       "    </tr>\n",
       "  </tbody>\n",
       "</table>\n",
       "</div>"
      ],
      "text/plain": [
       "                                         channel_title   channel_username  \\\n",
       "0                                     Doctors Ethiopia          DoctorsET   \n",
       "100                     Lobelia pharmacy and cosmetics  lobelia4cosmetics   \n",
       "200                                   የጤና ወግ - የጤና መረጃ          yetenaweg   \n",
       "300  ETHIO-AMERICAN MEDICAL TRAININGS( CPD ) & HEAL...              EAHCI   \n",
       "\n",
       "     message_id              message_date  \\\n",
       "0    1102021238 2023-12-18 17:04:02+00:00   \n",
       "100  1666492664 2025-01-31 05:30:28+00:00   \n",
       "200  1447066276 2025-01-22 09:50:47+00:00   \n",
       "300  1432982009 2025-01-30 12:42:18+00:00   \n",
       "\n",
       "                                               message  \\\n",
       "0    በቀን አንዴ ብቻ የሚባለው የቢዝነስ አማካሪ \\n\\nበ 10,000 ብር ብቻ...   \n",
       "100  PRENATAL 120 GUMMIES \\nPrice 6500 birr \\nTeleg...   \n",
       "200                                                      \n",
       "300  #**የግርዛት_ስልጠና_ወላይታ_ሶዶ****\\n****#Circumcision_S...   \n",
       "\n",
       "                                     media_path             emoji_used  \\\n",
       "0                                      No Media                   👈👈👇👇   \n",
       "100  scraped_images\\lobelia4cosmetics_15200.jpg                  👉☎🏍🏍🏍   \n",
       "200           scraped_images\\yetenaweg_1247.jpg               No emoji   \n",
       "300               scraped_images\\EAHCI_2603.jpg  🔶🔶🔶🔶🔶🔶🔶🔶🔶🔶👉👉👉📞📞📞📞📞📞👉👉   \n",
       "\n",
       "                                         youtube_links  \n",
       "0    https://youtu.be/5DBoEm-8kmA?si=LDLuEecNfULJVD...  \n",
       "100                                    No YouTube link  \n",
       "200                                    No YouTube link  \n",
       "300                                    No YouTube link  "
      ]
     },
     "execution_count": 5,
     "metadata": {},
     "output_type": "execute_result"
    }
   ],
   "source": [
    "df_cleaned = clean_dataframe(df)\n",
    "\n",
    "# Display cleaned dataset\n",
    "df_cleaned.head(10)"
   ]
  },
  {
   "cell_type": "code",
   "execution_count": 6,
   "metadata": {},
   "outputs": [
    {
     "data": {
      "text/plain": [
       "Series([], dtype: int64)"
      ]
     },
     "execution_count": 6,
     "metadata": {},
     "output_type": "execute_result"
    }
   ],
   "source": [
    "# Check for missing values in the cleaned DataFrame\n",
    "missing_values = df_cleaned.isnull().sum()\n",
    "missing_values[missing_values > 0]  # Display only columns with missing values\n"
   ]
  },
  {
   "cell_type": "code",
   "execution_count": 7,
   "metadata": {},
   "outputs": [],
   "source": [
    "# Drop the row with missing message_date\n",
    "cleaned_df = df_cleaned.dropna(subset=['message_date'])"
   ]
  },
  {
   "cell_type": "code",
   "execution_count": 8,
   "metadata": {},
   "outputs": [
    {
     "name": "stderr",
     "output_type": "stream",
     "text": [
      "2025-01-31 16:15:45,741 - INFO - ✅ Cleaned data saved successfully to '../data/cleaned_telegram_data.csv'.\n"
     ]
    },
    {
     "name": "stdout",
     "output_type": "stream",
     "text": [
      "✅ Cleaned data saved successfully to '../data/cleaned_telegram_data.csv'.\n"
     ]
    }
   ],
   "source": [
    "# Save cleaned data to CSV\n",
    "save_cleaned_data(cleaned_df, \"../data/cleaned_telegram_data.csv\")"
   ]
  },
  {
   "cell_type": "markdown",
   "metadata": {},
   "source": [
    "Connect to database"
   ]
  },
  {
   "cell_type": "code",
   "execution_count": 9,
   "metadata": {},
   "outputs": [
    {
     "name": "stderr",
     "output_type": "stream",
     "text": [
      "2025-01-31 16:15:49,724 - INFO - ✅ Successfully connected to the PostgreSQL database.\n"
     ]
    }
   ],
   "source": [
    "engine = get_db_connection()  "
   ]
  },
  {
   "cell_type": "code",
   "execution_count": 10,
   "metadata": {},
   "outputs": [
    {
     "name": "stderr",
     "output_type": "stream",
     "text": [
      "2025-01-31 16:15:52,839 - INFO - ✅ Table 'telegram_messages' created successfully.\n"
     ]
    }
   ],
   "source": [
    "create_table(engine)"
   ]
  },
  {
   "cell_type": "code",
   "execution_count": 11,
   "metadata": {},
   "outputs": [],
   "source": [
    "# Load the cleaned CSV into a DataFrame\n",
    "cleaned_df = pd.read_csv(\"../data/cleaned_telegram_data.csv\")"
   ]
  },
  {
   "cell_type": "code",
   "execution_count": 12,
   "metadata": {},
   "outputs": [
    {
     "name": "stdout",
     "output_type": "stream",
     "text": [
      "Missing Values Before Insert: channel_title       0\n",
      "channel_username    0\n",
      "message_id          0\n",
      "message_date        0\n",
      "message             1\n",
      "media_path          0\n",
      "emoji_used          0\n",
      "youtube_links       0\n",
      "dtype: int64\n"
     ]
    }
   ],
   "source": [
    "# Ensure the 'message_date' column is in datetime format (to prevent NaT issues)\n",
    "cleaned_df[\"message_date\"] = pd.to_datetime(cleaned_df[\"message_date\"], errors=\"coerce\")\n",
    "\n",
    "# Check if there are any missing values before inserting\n",
    "missing_values = cleaned_df.isnull().sum()\n",
    "print(\"Missing Values Before Insert:\", missing_values)"
   ]
  },
  {
   "cell_type": "code",
   "execution_count": 13,
   "metadata": {},
   "outputs": [
    {
     "data": {
      "text/html": [
       "<div>\n",
       "<style scoped>\n",
       "    .dataframe tbody tr th:only-of-type {\n",
       "        vertical-align: middle;\n",
       "    }\n",
       "\n",
       "    .dataframe tbody tr th {\n",
       "        vertical-align: top;\n",
       "    }\n",
       "\n",
       "    .dataframe thead th {\n",
       "        text-align: right;\n",
       "    }\n",
       "</style>\n",
       "<table border=\"1\" class=\"dataframe\">\n",
       "  <thead>\n",
       "    <tr style=\"text-align: right;\">\n",
       "      <th></th>\n",
       "      <th>channel_title</th>\n",
       "      <th>channel_username</th>\n",
       "      <th>message_id</th>\n",
       "      <th>message_date</th>\n",
       "      <th>message</th>\n",
       "      <th>media_path</th>\n",
       "      <th>emoji_used</th>\n",
       "      <th>youtube_links</th>\n",
       "    </tr>\n",
       "  </thead>\n",
       "  <tbody>\n",
       "    <tr>\n",
       "      <th>0</th>\n",
       "      <td>Doctors Ethiopia</td>\n",
       "      <td>DoctorsET</td>\n",
       "      <td>1102021238</td>\n",
       "      <td>2023-12-18 17:04:02+00:00</td>\n",
       "      <td>በቀን አንዴ ብቻ የሚባለው የቢዝነስ አማካሪ \\n\\nበ 10,000 ብር ብቻ...</td>\n",
       "      <td>No Media</td>\n",
       "      <td>👈👈👇👇</td>\n",
       "      <td>https://youtu.be/5DBoEm-8kmA?si=LDLuEecNfULJVD...</td>\n",
       "    </tr>\n",
       "    <tr>\n",
       "      <th>100</th>\n",
       "      <td>Lobelia pharmacy and cosmetics</td>\n",
       "      <td>lobelia4cosmetics</td>\n",
       "      <td>1666492664</td>\n",
       "      <td>2025-01-31 05:30:28+00:00</td>\n",
       "      <td>PRENATAL 120 GUMMIES \\nPrice 6500 birr \\nTeleg...</td>\n",
       "      <td>scraped_images\\lobelia4cosmetics_15200.jpg</td>\n",
       "      <td>👉☎🏍🏍🏍</td>\n",
       "      <td>No YouTube link</td>\n",
       "    </tr>\n",
       "    <tr>\n",
       "      <th>200</th>\n",
       "      <td>የጤና ወግ - የጤና መረጃ</td>\n",
       "      <td>yetenaweg</td>\n",
       "      <td>1447066276</td>\n",
       "      <td>2025-01-22 09:50:47+00:00</td>\n",
       "      <td></td>\n",
       "      <td>scraped_images\\yetenaweg_1247.jpg</td>\n",
       "      <td>No emoji</td>\n",
       "      <td>No YouTube link</td>\n",
       "    </tr>\n",
       "    <tr>\n",
       "      <th>300</th>\n",
       "      <td>ETHIO-AMERICAN MEDICAL TRAININGS( CPD ) &amp; HEAL...</td>\n",
       "      <td>EAHCI</td>\n",
       "      <td>1432982009</td>\n",
       "      <td>2025-01-30 12:42:18+00:00</td>\n",
       "      <td>#**የግርዛት_ስልጠና_ወላይታ_ሶዶ****\\n****#Circumcision_S...</td>\n",
       "      <td>scraped_images\\EAHCI_2603.jpg</td>\n",
       "      <td>🔶🔶🔶🔶🔶🔶🔶🔶🔶🔶👉👉👉📞📞📞📞📞📞👉👉</td>\n",
       "      <td>No YouTube link</td>\n",
       "    </tr>\n",
       "  </tbody>\n",
       "</table>\n",
       "</div>"
      ],
      "text/plain": [
       "                                         channel_title   channel_username  \\\n",
       "0                                     Doctors Ethiopia          DoctorsET   \n",
       "100                     Lobelia pharmacy and cosmetics  lobelia4cosmetics   \n",
       "200                                   የጤና ወግ - የጤና መረጃ          yetenaweg   \n",
       "300  ETHIO-AMERICAN MEDICAL TRAININGS( CPD ) & HEAL...              EAHCI   \n",
       "\n",
       "     message_id              message_date  \\\n",
       "0    1102021238 2023-12-18 17:04:02+00:00   \n",
       "100  1666492664 2025-01-31 05:30:28+00:00   \n",
       "200  1447066276 2025-01-22 09:50:47+00:00   \n",
       "300  1432982009 2025-01-30 12:42:18+00:00   \n",
       "\n",
       "                                               message  \\\n",
       "0    በቀን አንዴ ብቻ የሚባለው የቢዝነስ አማካሪ \\n\\nበ 10,000 ብር ብቻ...   \n",
       "100  PRENATAL 120 GUMMIES \\nPrice 6500 birr \\nTeleg...   \n",
       "200                                                      \n",
       "300  #**የግርዛት_ስልጠና_ወላይታ_ሶዶ****\\n****#Circumcision_S...   \n",
       "\n",
       "                                     media_path             emoji_used  \\\n",
       "0                                      No Media                   👈👈👇👇   \n",
       "100  scraped_images\\lobelia4cosmetics_15200.jpg                  👉☎🏍🏍🏍   \n",
       "200           scraped_images\\yetenaweg_1247.jpg               No emoji   \n",
       "300               scraped_images\\EAHCI_2603.jpg  🔶🔶🔶🔶🔶🔶🔶🔶🔶🔶👉👉👉📞📞📞📞📞📞👉👉   \n",
       "\n",
       "                                         youtube_links  \n",
       "0    https://youtu.be/5DBoEm-8kmA?si=LDLuEecNfULJVD...  \n",
       "100                                    No YouTube link  \n",
       "200                                    No YouTube link  \n",
       "300                                    No YouTube link  "
      ]
     },
     "execution_count": 13,
     "metadata": {},
     "output_type": "execute_result"
    }
   ],
   "source": [
    "df_cleaned"
   ]
  },
  {
   "cell_type": "code",
   "execution_count": 14,
   "metadata": {},
   "outputs": [
    {
     "name": "stderr",
     "output_type": "stream",
     "text": [
      "2025-01-31 16:16:05,158 - INFO - Inserting: 1102021238 - 2023-12-18 17:04:02+00:00\n",
      "2025-01-31 16:16:05,170 - INFO - Inserting: 1666492664 - 2025-01-31 05:30:28+00:00\n",
      "2025-01-31 16:16:05,174 - INFO - Inserting: 1447066276 - 2025-01-22 09:50:47+00:00\n",
      "2025-01-31 16:16:05,178 - INFO - Inserting: 1432982009 - 2025-01-30 12:42:18+00:00\n",
      "2025-01-31 16:16:05,181 - INFO - ✅ 4 records inserted into PostgreSQL database.\n"
     ]
    }
   ],
   "source": [
    "# Insert into the database\n",
    "insert_data(engine, cleaned_df)"
   ]
  },
  {
   "cell_type": "code",
   "execution_count": 15,
   "metadata": {},
   "outputs": [
    {
     "data": {
      "text/html": [
       "<div>\n",
       "<style scoped>\n",
       "    .dataframe tbody tr th:only-of-type {\n",
       "        vertical-align: middle;\n",
       "    }\n",
       "\n",
       "    .dataframe tbody tr th {\n",
       "        vertical-align: top;\n",
       "    }\n",
       "\n",
       "    .dataframe thead th {\n",
       "        text-align: right;\n",
       "    }\n",
       "</style>\n",
       "<table border=\"1\" class=\"dataframe\">\n",
       "  <thead>\n",
       "    <tr style=\"text-align: right;\">\n",
       "      <th></th>\n",
       "      <th>id</th>\n",
       "      <th>channel_title</th>\n",
       "      <th>channel_username</th>\n",
       "      <th>message_id</th>\n",
       "      <th>message</th>\n",
       "      <th>message_date</th>\n",
       "      <th>media_path</th>\n",
       "      <th>emoji_used</th>\n",
       "      <th>youtube_links</th>\n",
       "    </tr>\n",
       "  </thead>\n",
       "  <tbody>\n",
       "    <tr>\n",
       "      <th>0</th>\n",
       "      <td>1</td>\n",
       "      <td>Doctors Ethiopia</td>\n",
       "      <td>DoctorsET</td>\n",
       "      <td>1102021238</td>\n",
       "      <td>በቀን አንዴ ብቻ የሚባለው የቢዝነስ አማካሪ \\n\\nበ 10,000 ብር ብቻ...</td>\n",
       "      <td>2023-12-18 17:04:02</td>\n",
       "      <td>No Media</td>\n",
       "      <td>👈👈👇👇</td>\n",
       "      <td>https://youtu.be/5DBoEm-8kmA?si=LDLuEecNfULJVD...</td>\n",
       "    </tr>\n",
       "    <tr>\n",
       "      <th>1</th>\n",
       "      <td>2</td>\n",
       "      <td>Lobelia pharmacy and cosmetics</td>\n",
       "      <td>lobelia4cosmetics</td>\n",
       "      <td>1666492664</td>\n",
       "      <td>PRENATAL 120 GUMMIES \\nPrice 6500 birr \\nTeleg...</td>\n",
       "      <td>2025-01-31 05:30:28</td>\n",
       "      <td>scraped_images\\lobelia4cosmetics_15200.jpg</td>\n",
       "      <td>👉☎🏍🏍🏍</td>\n",
       "      <td>No YouTube link</td>\n",
       "    </tr>\n",
       "    <tr>\n",
       "      <th>2</th>\n",
       "      <td>3</td>\n",
       "      <td>የጤና ወግ - የጤና መረጃ</td>\n",
       "      <td>yetenaweg</td>\n",
       "      <td>1447066276</td>\n",
       "      <td>NaN</td>\n",
       "      <td>2025-01-22 09:50:47</td>\n",
       "      <td>scraped_images\\yetenaweg_1247.jpg</td>\n",
       "      <td>No emoji</td>\n",
       "      <td>No YouTube link</td>\n",
       "    </tr>\n",
       "    <tr>\n",
       "      <th>3</th>\n",
       "      <td>4</td>\n",
       "      <td>ETHIO-AMERICAN MEDICAL TRAININGS( CPD ) &amp; HEAL...</td>\n",
       "      <td>EAHCI</td>\n",
       "      <td>1432982009</td>\n",
       "      <td>#**የግርዛት_ስልጠና_ወላይታ_ሶዶ****\\n****#Circumcision_S...</td>\n",
       "      <td>2025-01-30 12:42:18</td>\n",
       "      <td>scraped_images\\EAHCI_2603.jpg</td>\n",
       "      <td>🔶🔶🔶🔶🔶🔶🔶🔶🔶🔶👉👉👉📞📞📞📞📞📞👉👉</td>\n",
       "      <td>No YouTube link</td>\n",
       "    </tr>\n",
       "  </tbody>\n",
       "</table>\n",
       "</div>"
      ],
      "text/plain": [
       "   id                                      channel_title   channel_username  \\\n",
       "0   1                                   Doctors Ethiopia          DoctorsET   \n",
       "1   2                     Lobelia pharmacy and cosmetics  lobelia4cosmetics   \n",
       "2   3                                   የጤና ወግ - የጤና መረጃ          yetenaweg   \n",
       "3   4  ETHIO-AMERICAN MEDICAL TRAININGS( CPD ) & HEAL...              EAHCI   \n",
       "\n",
       "   message_id                                            message  \\\n",
       "0  1102021238  በቀን አንዴ ብቻ የሚባለው የቢዝነስ አማካሪ \\n\\nበ 10,000 ብር ብቻ...   \n",
       "1  1666492664  PRENATAL 120 GUMMIES \\nPrice 6500 birr \\nTeleg...   \n",
       "2  1447066276                                                NaN   \n",
       "3  1432982009  #**የግርዛት_ስልጠና_ወላይታ_ሶዶ****\\n****#Circumcision_S...   \n",
       "\n",
       "         message_date                                  media_path  \\\n",
       "0 2023-12-18 17:04:02                                    No Media   \n",
       "1 2025-01-31 05:30:28  scraped_images\\lobelia4cosmetics_15200.jpg   \n",
       "2 2025-01-22 09:50:47           scraped_images\\yetenaweg_1247.jpg   \n",
       "3 2025-01-30 12:42:18               scraped_images\\EAHCI_2603.jpg   \n",
       "\n",
       "              emoji_used                                      youtube_links  \n",
       "0                   👈👈👇👇  https://youtu.be/5DBoEm-8kmA?si=LDLuEecNfULJVD...  \n",
       "1                  👉☎🏍🏍🏍                                    No YouTube link  \n",
       "2               No emoji                                    No YouTube link  \n",
       "3  🔶🔶🔶🔶🔶🔶🔶🔶🔶🔶👉👉👉📞📞📞📞📞📞👉👉                                    No YouTube link  "
      ]
     },
     "execution_count": 15,
     "metadata": {},
     "output_type": "execute_result"
    }
   ],
   "source": [
    "\n",
    "query = \"SELECT * FROM telegram_messages LIMIT 5;\"\n",
    "df_pg = pd.read_sql(query, engine)\n",
    "\n",
    "df_pg"
   ]
  }
 ],
 "metadata": {
  "kernelspec": {
   "display_name": "base",
   "language": "python",
   "name": "python3"
  },
  "language_info": {
   "codemirror_mode": {
    "name": "ipython",
    "version": 3
   },
   "file_extension": ".py",
   "mimetype": "text/x-python",
   "name": "python",
   "nbconvert_exporter": "python",
   "pygments_lexer": "ipython3",
   "version": "3.12.7"
  }
 },
 "nbformat": 4,
 "nbformat_minor": 2
}
